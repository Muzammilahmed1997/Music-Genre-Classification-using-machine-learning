{
 "cells": [
  {
   "attachments": {},
   "cell_type": "markdown",
   "metadata": {},
   "source": [
    "# Music Genre Classification"
   ]
  },
  {
   "attachments": {},
   "cell_type": "markdown",
   "metadata": {},
   "source": [
    "#### GTZAN Dataset"
   ]
  },
  {
   "attachments": {},
   "cell_type": "markdown",
   "metadata": {},
   "source": [
    "### Importing Libraries"
   ]
  },
  {
   "cell_type": "code",
   "execution_count": 12,
   "metadata": {},
   "outputs": [],
   "source": [
    "import pandas as pd   \n",
    "import matplotlib.pyplot as plt\n",
    "import plotly.express as px\n",
    "import time\n",
    "import numpy as np\n",
    "import warnings\n",
    "\n",
    "from sklearn.tree import DecisionTreeClassifier\n",
    "from sklearn.ensemble import RandomForestClassifier, GradientBoostingClassifier\n",
    "from sklearn.neighbors import KNeighborsClassifier\n",
    "from xgboost import XGBClassifier\n",
    "from sklearn.feature_selection import RFE,SelectFromModel\n",
    "\n",
    "\n",
    "from sklearn.model_selection import train_test_split, RepeatedKFold, GridSearchCV, cross_val_score\n",
    "from sklearn.model_selection import cross_val_predict\n",
    "\n",
    "from sklearn.metrics import accuracy_score\n",
    "from sklearn.model_selection import KFold, cross_val_score\n",
    "from sklearn.metrics import roc_curve, roc_auc_score\n",
    "\n",
    "from sklearn.pipeline import Pipeline\n",
    "from matplotlib import pyplot\n",
    "# the permutation based importance\n",
    "import seaborn as sns\n",
    "from sklearn.inspection import permutation_importance\n",
    "\n",
    "from numpy import mean\n",
    "import warnings\n",
    "warnings.filterwarnings(\"ignore\") "
   ]
  },
  {
   "attachments": {},
   "cell_type": "markdown",
   "metadata": {},
   "source": [
    "### Loading Dataset"
   ]
  },
  {
   "cell_type": "code",
   "execution_count": 3,
   "metadata": {},
   "outputs": [
    {
     "data": {
      "text/plain": [
       "(1000, 30)"
      ]
     },
     "execution_count": 3,
     "metadata": {},
     "output_type": "execute_result"
    }
   ],
   "source": [
    "# Importing Dataset using Pandas.\n",
    "data = pd.read_csv(\"audio_data.csv\")\n",
    "data.shape  "
   ]
  },
  {
   "cell_type": "code",
   "execution_count": 102,
   "metadata": {},
   "outputs": [
    {
     "data": {
      "text/html": [
       "<div>\n",
       "<style scoped>\n",
       "    .dataframe tbody tr th:only-of-type {\n",
       "        vertical-align: middle;\n",
       "    }\n",
       "\n",
       "    .dataframe tbody tr th {\n",
       "        vertical-align: top;\n",
       "    }\n",
       "\n",
       "    .dataframe thead th {\n",
       "        text-align: right;\n",
       "    }\n",
       "</style>\n",
       "<table border=\"1\" class=\"dataframe\">\n",
       "  <thead>\n",
       "    <tr style=\"text-align: right;\">\n",
       "      <th></th>\n",
       "      <th>class_name</th>\n",
       "      <th>tempo</th>\n",
       "      <th>beats</th>\n",
       "      <th>chroma_stft</th>\n",
       "      <th>rmse</th>\n",
       "      <th>spectral_centroid</th>\n",
       "      <th>spectral_bandwidth</th>\n",
       "      <th>rolloff</th>\n",
       "      <th>zero_crossing_rate</th>\n",
       "      <th>mfcc1</th>\n",
       "      <th>...</th>\n",
       "      <th>mfcc12</th>\n",
       "      <th>mfcc13</th>\n",
       "      <th>mfcc14</th>\n",
       "      <th>mfcc15</th>\n",
       "      <th>mfcc16</th>\n",
       "      <th>mfcc17</th>\n",
       "      <th>mfcc18</th>\n",
       "      <th>mfcc19</th>\n",
       "      <th>mfcc20</th>\n",
       "      <th>label</th>\n",
       "    </tr>\n",
       "  </thead>\n",
       "  <tbody>\n",
       "    <tr>\n",
       "      <th>0</th>\n",
       "      <td>blues</td>\n",
       "      <td>103.359375</td>\n",
       "      <td>50</td>\n",
       "      <td>0.380260</td>\n",
       "      <td>0.248262</td>\n",
       "      <td>2116.942959</td>\n",
       "      <td>1956.611056</td>\n",
       "      <td>4196.107960</td>\n",
       "      <td>0.127272</td>\n",
       "      <td>-26.929785</td>\n",
       "      <td>...</td>\n",
       "      <td>14.336612</td>\n",
       "      <td>-13.821769</td>\n",
       "      <td>7.562789</td>\n",
       "      <td>-6.181372</td>\n",
       "      <td>0.330165</td>\n",
       "      <td>-6.829571</td>\n",
       "      <td>0.965922</td>\n",
       "      <td>-7.570825</td>\n",
       "      <td>2.918987</td>\n",
       "      <td>blues</td>\n",
       "    </tr>\n",
       "    <tr>\n",
       "      <th>1</th>\n",
       "      <td>blues</td>\n",
       "      <td>95.703125</td>\n",
       "      <td>44</td>\n",
       "      <td>0.306451</td>\n",
       "      <td>0.113475</td>\n",
       "      <td>1156.070496</td>\n",
       "      <td>1497.668176</td>\n",
       "      <td>2170.053545</td>\n",
       "      <td>0.058613</td>\n",
       "      <td>-233.860772</td>\n",
       "      <td>...</td>\n",
       "      <td>-2.250578</td>\n",
       "      <td>3.959198</td>\n",
       "      <td>5.322555</td>\n",
       "      <td>0.812028</td>\n",
       "      <td>-1.107202</td>\n",
       "      <td>-4.556555</td>\n",
       "      <td>-2.436490</td>\n",
       "      <td>3.316913</td>\n",
       "      <td>-0.608485</td>\n",
       "      <td>blues</td>\n",
       "    </tr>\n",
       "    <tr>\n",
       "      <th>2</th>\n",
       "      <td>blues</td>\n",
       "      <td>151.999081</td>\n",
       "      <td>75</td>\n",
       "      <td>0.253487</td>\n",
       "      <td>0.151571</td>\n",
       "      <td>1331.073970</td>\n",
       "      <td>1973.643437</td>\n",
       "      <td>2900.174130</td>\n",
       "      <td>0.042967</td>\n",
       "      <td>-221.802549</td>\n",
       "      <td>...</td>\n",
       "      <td>-13.037723</td>\n",
       "      <td>-12.652228</td>\n",
       "      <td>-1.821905</td>\n",
       "      <td>-7.260097</td>\n",
       "      <td>-6.660252</td>\n",
       "      <td>-14.682694</td>\n",
       "      <td>-11.719264</td>\n",
       "      <td>-11.025216</td>\n",
       "      <td>-13.387260</td>\n",
       "      <td>blues</td>\n",
       "    </tr>\n",
       "    <tr>\n",
       "      <th>3</th>\n",
       "      <td>blues</td>\n",
       "      <td>184.570312</td>\n",
       "      <td>91</td>\n",
       "      <td>0.269320</td>\n",
       "      <td>0.119072</td>\n",
       "      <td>1361.045467</td>\n",
       "      <td>1567.804596</td>\n",
       "      <td>2739.625101</td>\n",
       "      <td>0.069124</td>\n",
       "      <td>-207.208080</td>\n",
       "      <td>...</td>\n",
       "      <td>-0.613248</td>\n",
       "      <td>0.384877</td>\n",
       "      <td>2.605128</td>\n",
       "      <td>-5.188924</td>\n",
       "      <td>-9.527455</td>\n",
       "      <td>-9.244394</td>\n",
       "      <td>-2.848274</td>\n",
       "      <td>-1.418707</td>\n",
       "      <td>-5.932607</td>\n",
       "      <td>blues</td>\n",
       "    </tr>\n",
       "    <tr>\n",
       "      <th>4</th>\n",
       "      <td>blues</td>\n",
       "      <td>161.499023</td>\n",
       "      <td>74</td>\n",
       "      <td>0.391059</td>\n",
       "      <td>0.137728</td>\n",
       "      <td>1811.076084</td>\n",
       "      <td>2052.332563</td>\n",
       "      <td>3927.809582</td>\n",
       "      <td>0.075480</td>\n",
       "      <td>-145.434568</td>\n",
       "      <td>...</td>\n",
       "      <td>7.457218</td>\n",
       "      <td>-10.470444</td>\n",
       "      <td>-2.360483</td>\n",
       "      <td>-6.783624</td>\n",
       "      <td>2.671134</td>\n",
       "      <td>-4.760879</td>\n",
       "      <td>-0.949005</td>\n",
       "      <td>0.024832</td>\n",
       "      <td>-2.005315</td>\n",
       "      <td>blues</td>\n",
       "    </tr>\n",
       "  </tbody>\n",
       "</table>\n",
       "<p>5 rows × 30 columns</p>\n",
       "</div>"
      ],
      "text/plain": [
       "  class_name       tempo  beats  chroma_stft      rmse  spectral_centroid  \\\n",
       "0      blues  103.359375     50     0.380260  0.248262        2116.942959   \n",
       "1      blues   95.703125     44     0.306451  0.113475        1156.070496   \n",
       "2      blues  151.999081     75     0.253487  0.151571        1331.073970   \n",
       "3      blues  184.570312     91     0.269320  0.119072        1361.045467   \n",
       "4      blues  161.499023     74     0.391059  0.137728        1811.076084   \n",
       "\n",
       "   spectral_bandwidth      rolloff  zero_crossing_rate       mfcc1  ...  \\\n",
       "0         1956.611056  4196.107960            0.127272  -26.929785  ...   \n",
       "1         1497.668176  2170.053545            0.058613 -233.860772  ...   \n",
       "2         1973.643437  2900.174130            0.042967 -221.802549  ...   \n",
       "3         1567.804596  2739.625101            0.069124 -207.208080  ...   \n",
       "4         2052.332563  3927.809582            0.075480 -145.434568  ...   \n",
       "\n",
       "      mfcc12     mfcc13    mfcc14    mfcc15    mfcc16     mfcc17     mfcc18  \\\n",
       "0  14.336612 -13.821769  7.562789 -6.181372  0.330165  -6.829571   0.965922   \n",
       "1  -2.250578   3.959198  5.322555  0.812028 -1.107202  -4.556555  -2.436490   \n",
       "2 -13.037723 -12.652228 -1.821905 -7.260097 -6.660252 -14.682694 -11.719264   \n",
       "3  -0.613248   0.384877  2.605128 -5.188924 -9.527455  -9.244394  -2.848274   \n",
       "4   7.457218 -10.470444 -2.360483 -6.783624  2.671134  -4.760879  -0.949005   \n",
       "\n",
       "      mfcc19     mfcc20  label  \n",
       "0  -7.570825   2.918987  blues  \n",
       "1   3.316913  -0.608485  blues  \n",
       "2 -11.025216 -13.387260  blues  \n",
       "3  -1.418707  -5.932607  blues  \n",
       "4   0.024832  -2.005315  blues  \n",
       "\n",
       "[5 rows x 30 columns]"
      ]
     },
     "execution_count": 102,
     "metadata": {},
     "output_type": "execute_result"
    }
   ],
   "source": [
    "data.head()"
   ]
  },
  {
   "attachments": {},
   "cell_type": "markdown",
   "metadata": {},
   "source": [
    "## Data Preprocessing"
   ]
  },
  {
   "cell_type": "code",
   "execution_count": 103,
   "metadata": {},
   "outputs": [
    {
     "data": {
      "text/plain": [
       "blues        100\n",
       "classical    100\n",
       "country      100\n",
       "disco        100\n",
       "hiphop       100\n",
       "jazz         100\n",
       "metal        100\n",
       "pop          100\n",
       "reggae       100\n",
       "rock         100\n",
       "Name: class_name, dtype: int64"
      ]
     },
     "execution_count": 103,
     "metadata": {},
     "output_type": "execute_result"
    }
   ],
   "source": [
    "# Counting Number of Attrition.\n",
    "dictribution = data[\"class_name\"].value_counts()\n",
    "dictribution"
   ]
  },
  {
   "cell_type": "code",
   "execution_count": 104,
   "metadata": {},
   "outputs": [
    {
     "data": {
      "text/plain": [
       "class_name            0\n",
       "tempo                 0\n",
       "beats                 0\n",
       "chroma_stft           0\n",
       "rmse                  0\n",
       "spectral_centroid     0\n",
       "spectral_bandwidth    0\n",
       "rolloff               0\n",
       "zero_crossing_rate    0\n",
       "mfcc1                 0\n",
       "mfcc2                 0\n",
       "mfcc3                 0\n",
       "mfcc4                 0\n",
       "mfcc5                 0\n",
       "mfcc6                 0\n",
       "mfcc7                 0\n",
       "mfcc8                 0\n",
       "mfcc9                 0\n",
       "mfcc10                0\n",
       "mfcc11                0\n",
       "mfcc12                0\n",
       "mfcc13                0\n",
       "mfcc14                0\n",
       "mfcc15                0\n",
       "mfcc16                0\n",
       "mfcc17                0\n",
       "mfcc18                0\n",
       "mfcc19                0\n",
       "mfcc20                0\n",
       "label                 0\n",
       "dtype: int64"
      ]
     },
     "execution_count": 104,
     "metadata": {},
     "output_type": "execute_result"
    }
   ],
   "source": [
    "# Checking Null values in all features.\n",
    "data.isnull().sum()"
   ]
  },
  {
   "cell_type": "code",
   "execution_count": 105,
   "metadata": {},
   "outputs": [
    {
     "data": {
      "text/plain": [
       "class_name             object\n",
       "tempo                 float64\n",
       "beats                   int64\n",
       "chroma_stft           float64\n",
       "rmse                  float64\n",
       "spectral_centroid     float64\n",
       "spectral_bandwidth    float64\n",
       "rolloff               float64\n",
       "zero_crossing_rate    float64\n",
       "mfcc1                 float64\n",
       "mfcc2                 float64\n",
       "mfcc3                 float64\n",
       "mfcc4                 float64\n",
       "mfcc5                 float64\n",
       "mfcc6                 float64\n",
       "mfcc7                 float64\n",
       "mfcc8                 float64\n",
       "mfcc9                 float64\n",
       "mfcc10                float64\n",
       "mfcc11                float64\n",
       "mfcc12                float64\n",
       "mfcc13                float64\n",
       "mfcc14                float64\n",
       "mfcc15                float64\n",
       "mfcc16                float64\n",
       "mfcc17                float64\n",
       "mfcc18                float64\n",
       "mfcc19                float64\n",
       "mfcc20                float64\n",
       "label                  object\n",
       "dtype: object"
      ]
     },
     "execution_count": 105,
     "metadata": {},
     "output_type": "execute_result"
    }
   ],
   "source": [
    "# Checking Data Types of every column.\n",
    "data.dtypes"
   ]
  },
  {
   "cell_type": "code",
   "execution_count": 106,
   "metadata": {},
   "outputs": [
    {
     "data": {
      "text/plain": [
       "array(['blues', 'classical', 'country', 'disco', 'hiphop', 'jazz',\n",
       "       'metal', 'pop', 'reggae', 'rock'], dtype=object)"
      ]
     },
     "execution_count": 106,
     "metadata": {},
     "output_type": "execute_result"
    }
   ],
   "source": [
    "data['class_name'].unique()"
   ]
  },
  {
   "cell_type": "code",
   "execution_count": 4,
   "metadata": {},
   "outputs": [],
   "source": [
    "# These two lines of code are used to convert the class_name column in a Pandas DataFrame to a categorical variable and then convert it to numerical codes.\n",
    "data['class_name'] = data['class_name'].astype('category')\n",
    "data['class_label'] = data['class_name'].cat.codes"
   ]
  },
  {
   "attachments": {},
   "cell_type": "markdown",
   "metadata": {},
   "source": [
    "The cat.codes function returns a numerical code for each unique category in the categorical variable. The numerical codes are assigned based on the order in which the categories appear in the DataFrame, with the first category getting a code of 0, the second category getting a code of 1, and so on."
   ]
  },
  {
   "cell_type": "code",
   "execution_count": 108,
   "metadata": {},
   "outputs": [
    {
     "data": {
      "text/plain": [
       "0      0\n",
       "1      0\n",
       "2      0\n",
       "3      0\n",
       "4      0\n",
       "      ..\n",
       "995    9\n",
       "996    9\n",
       "997    9\n",
       "998    9\n",
       "999    9\n",
       "Name: class_label, Length: 1000, dtype: int8"
      ]
     },
     "execution_count": 108,
     "metadata": {},
     "output_type": "execute_result"
    }
   ],
   "source": [
    "data['class_label']"
   ]
  },
  {
   "cell_type": "code",
   "execution_count": 109,
   "metadata": {},
   "outputs": [
    {
     "data": {
      "text/plain": [
       "{0: 'blues',\n",
       " 1: 'classical',\n",
       " 2: 'country',\n",
       " 3: 'disco',\n",
       " 4: 'hiphop',\n",
       " 5: 'jazz',\n",
       " 6: 'metal',\n",
       " 7: 'pop',\n",
       " 8: 'reggae',\n",
       " 9: 'rock'}"
      ]
     },
     "execution_count": 109,
     "metadata": {},
     "output_type": "execute_result"
    }
   ],
   "source": [
    "class_lookup = dict(zip(data.class_label.unique(), data.class_name.unique()))\n",
    "class_lookup"
   ]
  },
  {
   "cell_type": "code",
   "execution_count": 5,
   "metadata": {},
   "outputs": [],
   "source": [
    "# Dropping Unnecessary Column.\n",
    "data.drop('class_name',axis=1,inplace=True)\n",
    "data.drop('label',axis=1,inplace=True)\n",
    "data.drop('beats',axis=1,inplace=True)"
   ]
  },
  {
   "cell_type": "code",
   "execution_count": 111,
   "metadata": {},
   "outputs": [
    {
     "data": {
      "text/plain": [
       "tempo                 float64\n",
       "chroma_stft           float64\n",
       "rmse                  float64\n",
       "spectral_centroid     float64\n",
       "spectral_bandwidth    float64\n",
       "rolloff               float64\n",
       "zero_crossing_rate    float64\n",
       "mfcc1                 float64\n",
       "mfcc2                 float64\n",
       "mfcc3                 float64\n",
       "mfcc4                 float64\n",
       "mfcc5                 float64\n",
       "mfcc6                 float64\n",
       "mfcc7                 float64\n",
       "mfcc8                 float64\n",
       "mfcc9                 float64\n",
       "mfcc10                float64\n",
       "mfcc11                float64\n",
       "mfcc12                float64\n",
       "mfcc13                float64\n",
       "mfcc14                float64\n",
       "mfcc15                float64\n",
       "mfcc16                float64\n",
       "mfcc17                float64\n",
       "mfcc18                float64\n",
       "mfcc19                float64\n",
       "mfcc20                float64\n",
       "class_label              int8\n",
       "dtype: object"
      ]
     },
     "execution_count": 111,
     "metadata": {},
     "output_type": "execute_result"
    }
   ],
   "source": [
    "# Checking Data types of column. All columns must be in numbers.\n",
    "data.dtypes"
   ]
  },
  {
   "attachments": {},
   "cell_type": "markdown",
   "metadata": {},
   "source": [
    "## Splitting Dataset into Test and Train"
   ]
  },
  {
   "cell_type": "code",
   "execution_count": 6,
   "metadata": {},
   "outputs": [],
   "source": [
    "X = data.loc[:, data.columns != 'class_label']     # All columns except target variable.\n",
    "y = data[['class_label']]                          # Target Variable."
   ]
  },
  {
   "cell_type": "code",
   "execution_count": 7,
   "metadata": {},
   "outputs": [
    {
     "name": "stdout",
     "output_type": "stream",
     "text": [
      "(700, 27)\n",
      "(700, 1)\n",
      "(300, 27)\n",
      "(300, 1)\n"
     ]
    }
   ],
   "source": [
    "trainX, testX, trainy, testy = train_test_split(X, y, test_size=0.3, random_state=2)\n",
    "print(trainX.shape)\n",
    "print(trainy.shape)\n",
    "print(testX.shape)\n",
    "print(testy.shape)"
   ]
  },
  {
   "attachments": {},
   "cell_type": "markdown",
   "metadata": {},
   "source": [
    "### Scaling the data"
   ]
  },
  {
   "cell_type": "code",
   "execution_count": 8,
   "metadata": {},
   "outputs": [],
   "source": [
    "from sklearn.preprocessing import MinMaxScaler\n",
    "scaling = MinMaxScaler()\n",
    "\n",
    "scaling.fit(trainX)\n",
    "trainX_scaled = scaling.transform(trainX)\n",
    "testX_scaled = scaling.transform(testX)"
   ]
  },
  {
   "cell_type": "code",
   "execution_count": 115,
   "metadata": {},
   "outputs": [
    {
     "data": {
      "text/html": [
       "<div>\n",
       "<style scoped>\n",
       "    .dataframe tbody tr th:only-of-type {\n",
       "        vertical-align: middle;\n",
       "    }\n",
       "\n",
       "    .dataframe tbody tr th {\n",
       "        vertical-align: top;\n",
       "    }\n",
       "\n",
       "    .dataframe thead th {\n",
       "        text-align: right;\n",
       "    }\n",
       "</style>\n",
       "<table border=\"1\" class=\"dataframe\">\n",
       "  <thead>\n",
       "    <tr style=\"text-align: right;\">\n",
       "      <th></th>\n",
       "      <th>tempo</th>\n",
       "      <th>chroma_stft</th>\n",
       "      <th>rmse</th>\n",
       "      <th>spectral_centroid</th>\n",
       "      <th>spectral_bandwidth</th>\n",
       "      <th>rolloff</th>\n",
       "      <th>zero_crossing_rate</th>\n",
       "      <th>mfcc1</th>\n",
       "      <th>mfcc2</th>\n",
       "      <th>mfcc3</th>\n",
       "      <th>...</th>\n",
       "      <th>mfcc11</th>\n",
       "      <th>mfcc12</th>\n",
       "      <th>mfcc13</th>\n",
       "      <th>mfcc14</th>\n",
       "      <th>mfcc15</th>\n",
       "      <th>mfcc16</th>\n",
       "      <th>mfcc17</th>\n",
       "      <th>mfcc18</th>\n",
       "      <th>mfcc19</th>\n",
       "      <th>mfcc20</th>\n",
       "    </tr>\n",
       "  </thead>\n",
       "  <tbody>\n",
       "    <tr>\n",
       "      <th>90</th>\n",
       "      <td>83.354335</td>\n",
       "      <td>0.269929</td>\n",
       "      <td>0.079673</td>\n",
       "      <td>1537.657183</td>\n",
       "      <td>2054.779113</td>\n",
       "      <td>3495.653862</td>\n",
       "      <td>0.056132</td>\n",
       "      <td>-252.533986</td>\n",
       "      <td>104.927485</td>\n",
       "      <td>15.353578</td>\n",
       "      <td>...</td>\n",
       "      <td>-1.953308</td>\n",
       "      <td>1.960557</td>\n",
       "      <td>-0.881435</td>\n",
       "      <td>7.778604</td>\n",
       "      <td>2.390255</td>\n",
       "      <td>1.774140</td>\n",
       "      <td>1.339317</td>\n",
       "      <td>3.630699</td>\n",
       "      <td>4.910860</td>\n",
       "      <td>-2.651944</td>\n",
       "    </tr>\n",
       "    <tr>\n",
       "      <th>305</th>\n",
       "      <td>95.703125</td>\n",
       "      <td>0.373596</td>\n",
       "      <td>0.188945</td>\n",
       "      <td>3132.641648</td>\n",
       "      <td>3007.907247</td>\n",
       "      <td>6863.758496</td>\n",
       "      <td>0.130977</td>\n",
       "      <td>-41.303284</td>\n",
       "      <td>62.797761</td>\n",
       "      <td>7.327263</td>\n",
       "      <td>...</td>\n",
       "      <td>-2.688466</td>\n",
       "      <td>-7.218402</td>\n",
       "      <td>-3.246054</td>\n",
       "      <td>-1.924748</td>\n",
       "      <td>0.521216</td>\n",
       "      <td>-3.185653</td>\n",
       "      <td>-5.548058</td>\n",
       "      <td>-9.165678</td>\n",
       "      <td>-10.674253</td>\n",
       "      <td>-5.973118</td>\n",
       "    </tr>\n",
       "    <tr>\n",
       "      <th>126</th>\n",
       "      <td>129.199219</td>\n",
       "      <td>0.346798</td>\n",
       "      <td>0.115125</td>\n",
       "      <td>1878.644574</td>\n",
       "      <td>1964.912008</td>\n",
       "      <td>3633.986359</td>\n",
       "      <td>0.111613</td>\n",
       "      <td>-85.243462</td>\n",
       "      <td>118.428898</td>\n",
       "      <td>-31.474636</td>\n",
       "      <td>...</td>\n",
       "      <td>-4.433377</td>\n",
       "      <td>-1.403674</td>\n",
       "      <td>-4.247367</td>\n",
       "      <td>-4.168933</td>\n",
       "      <td>-3.982021</td>\n",
       "      <td>0.275397</td>\n",
       "      <td>-3.393380</td>\n",
       "      <td>1.694451</td>\n",
       "      <td>-3.685527</td>\n",
       "      <td>-3.439862</td>\n",
       "    </tr>\n",
       "    <tr>\n",
       "      <th>963</th>\n",
       "      <td>107.666016</td>\n",
       "      <td>0.346682</td>\n",
       "      <td>0.065505</td>\n",
       "      <td>2632.695048</td>\n",
       "      <td>2550.454193</td>\n",
       "      <td>5310.709554</td>\n",
       "      <td>0.132433</td>\n",
       "      <td>-156.208457</td>\n",
       "      <td>75.611329</td>\n",
       "      <td>-16.509524</td>\n",
       "      <td>...</td>\n",
       "      <td>-4.096210</td>\n",
       "      <td>-2.213438</td>\n",
       "      <td>-4.643326</td>\n",
       "      <td>-5.409220</td>\n",
       "      <td>-4.687138</td>\n",
       "      <td>-7.082285</td>\n",
       "      <td>-3.890626</td>\n",
       "      <td>1.386993</td>\n",
       "      <td>-2.007640</td>\n",
       "      <td>-4.728466</td>\n",
       "    </tr>\n",
       "    <tr>\n",
       "      <th>163</th>\n",
       "      <td>135.999178</td>\n",
       "      <td>0.246935</td>\n",
       "      <td>0.041608</td>\n",
       "      <td>1558.813953</td>\n",
       "      <td>1578.563682</td>\n",
       "      <td>2922.065664</td>\n",
       "      <td>0.092215</td>\n",
       "      <td>-297.219748</td>\n",
       "      <td>130.280589</td>\n",
       "      <td>-30.588890</td>\n",
       "      <td>...</td>\n",
       "      <td>-5.373448</td>\n",
       "      <td>4.469510</td>\n",
       "      <td>1.731519</td>\n",
       "      <td>1.888137</td>\n",
       "      <td>-1.310469</td>\n",
       "      <td>1.090912</td>\n",
       "      <td>-0.989502</td>\n",
       "      <td>-1.464830</td>\n",
       "      <td>0.635971</td>\n",
       "      <td>1.159916</td>\n",
       "    </tr>\n",
       "  </tbody>\n",
       "</table>\n",
       "<p>5 rows × 27 columns</p>\n",
       "</div>"
      ],
      "text/plain": [
       "          tempo  chroma_stft      rmse  spectral_centroid  spectral_bandwidth  \\\n",
       "90    83.354335     0.269929  0.079673        1537.657183         2054.779113   \n",
       "305   95.703125     0.373596  0.188945        3132.641648         3007.907247   \n",
       "126  129.199219     0.346798  0.115125        1878.644574         1964.912008   \n",
       "963  107.666016     0.346682  0.065505        2632.695048         2550.454193   \n",
       "163  135.999178     0.246935  0.041608        1558.813953         1578.563682   \n",
       "\n",
       "         rolloff  zero_crossing_rate       mfcc1       mfcc2      mfcc3  ...  \\\n",
       "90   3495.653862            0.056132 -252.533986  104.927485  15.353578  ...   \n",
       "305  6863.758496            0.130977  -41.303284   62.797761   7.327263  ...   \n",
       "126  3633.986359            0.111613  -85.243462  118.428898 -31.474636  ...   \n",
       "963  5310.709554            0.132433 -156.208457   75.611329 -16.509524  ...   \n",
       "163  2922.065664            0.092215 -297.219748  130.280589 -30.588890  ...   \n",
       "\n",
       "       mfcc11    mfcc12    mfcc13    mfcc14    mfcc15    mfcc16    mfcc17  \\\n",
       "90  -1.953308  1.960557 -0.881435  7.778604  2.390255  1.774140  1.339317   \n",
       "305 -2.688466 -7.218402 -3.246054 -1.924748  0.521216 -3.185653 -5.548058   \n",
       "126 -4.433377 -1.403674 -4.247367 -4.168933 -3.982021  0.275397 -3.393380   \n",
       "963 -4.096210 -2.213438 -4.643326 -5.409220 -4.687138 -7.082285 -3.890626   \n",
       "163 -5.373448  4.469510  1.731519  1.888137 -1.310469  1.090912 -0.989502   \n",
       "\n",
       "       mfcc18     mfcc19    mfcc20  \n",
       "90   3.630699   4.910860 -2.651944  \n",
       "305 -9.165678 -10.674253 -5.973118  \n",
       "126  1.694451  -3.685527 -3.439862  \n",
       "963  1.386993  -2.007640 -4.728466  \n",
       "163 -1.464830   0.635971  1.159916  \n",
       "\n",
       "[5 rows x 27 columns]"
      ]
     },
     "execution_count": 115,
     "metadata": {},
     "output_type": "execute_result"
    }
   ],
   "source": [
    "trainX.head()"
   ]
  },
  {
   "cell_type": "code",
   "execution_count": 9,
   "metadata": {},
   "outputs": [],
   "source": [
    "trainX_scaled = pd.DataFrame(trainX_scaled, columns= trainX.columns)\n",
    "testX_scaled = pd.DataFrame(testX_scaled, columns= testX.columns)"
   ]
  },
  {
   "cell_type": "code",
   "execution_count": 117,
   "metadata": {},
   "outputs": [
    {
     "data": {
      "text/html": [
       "<div>\n",
       "<style scoped>\n",
       "    .dataframe tbody tr th:only-of-type {\n",
       "        vertical-align: middle;\n",
       "    }\n",
       "\n",
       "    .dataframe tbody tr th {\n",
       "        vertical-align: top;\n",
       "    }\n",
       "\n",
       "    .dataframe thead th {\n",
       "        text-align: right;\n",
       "    }\n",
       "</style>\n",
       "<table border=\"1\" class=\"dataframe\">\n",
       "  <thead>\n",
       "    <tr style=\"text-align: right;\">\n",
       "      <th></th>\n",
       "      <th>tempo</th>\n",
       "      <th>chroma_stft</th>\n",
       "      <th>rmse</th>\n",
       "      <th>spectral_centroid</th>\n",
       "      <th>spectral_bandwidth</th>\n",
       "      <th>rolloff</th>\n",
       "      <th>zero_crossing_rate</th>\n",
       "      <th>mfcc1</th>\n",
       "      <th>mfcc2</th>\n",
       "      <th>mfcc3</th>\n",
       "      <th>...</th>\n",
       "      <th>mfcc11</th>\n",
       "      <th>mfcc12</th>\n",
       "      <th>mfcc13</th>\n",
       "      <th>mfcc14</th>\n",
       "      <th>mfcc15</th>\n",
       "      <th>mfcc16</th>\n",
       "      <th>mfcc17</th>\n",
       "      <th>mfcc18</th>\n",
       "      <th>mfcc19</th>\n",
       "      <th>mfcc20</th>\n",
       "    </tr>\n",
       "  </thead>\n",
       "  <tbody>\n",
       "    <tr>\n",
       "      <th>0</th>\n",
       "      <td>0.157258</td>\n",
       "      <td>0.199571</td>\n",
       "      <td>0.189433</td>\n",
       "      <td>0.221138</td>\n",
       "      <td>0.442944</td>\n",
       "      <td>0.323919</td>\n",
       "      <td>0.121273</td>\n",
       "      <td>0.504176</td>\n",
       "      <td>0.553531</td>\n",
       "      <td>0.660947</td>\n",
       "      <td>...</td>\n",
       "      <td>0.676269</td>\n",
       "      <td>0.457377</td>\n",
       "      <td>0.722300</td>\n",
       "      <td>0.660328</td>\n",
       "      <td>0.724796</td>\n",
       "      <td>0.596844</td>\n",
       "      <td>0.646537</td>\n",
       "      <td>0.570514</td>\n",
       "      <td>0.682340</td>\n",
       "      <td>0.489553</td>\n",
       "    </tr>\n",
       "    <tr>\n",
       "      <th>1</th>\n",
       "      <td>0.236111</td>\n",
       "      <td>0.410365</td>\n",
       "      <td>0.467667</td>\n",
       "      <td>0.649984</td>\n",
       "      <td>0.807905</td>\n",
       "      <td>0.763452</td>\n",
       "      <td>0.421999</td>\n",
       "      <td>0.859724</td>\n",
       "      <td>0.334470</td>\n",
       "      <td>0.589726</td>\n",
       "      <td>...</td>\n",
       "      <td>0.657220</td>\n",
       "      <td>0.221066</td>\n",
       "      <td>0.658238</td>\n",
       "      <td>0.342893</td>\n",
       "      <td>0.656844</td>\n",
       "      <td>0.425863</td>\n",
       "      <td>0.406707</td>\n",
       "      <td>0.102724</td>\n",
       "      <td>0.175923</td>\n",
       "      <td>0.395480</td>\n",
       "    </tr>\n",
       "    <tr>\n",
       "      <th>2</th>\n",
       "      <td>0.450000</td>\n",
       "      <td>0.355874</td>\n",
       "      <td>0.279703</td>\n",
       "      <td>0.312820</td>\n",
       "      <td>0.408533</td>\n",
       "      <td>0.341972</td>\n",
       "      <td>0.344196</td>\n",
       "      <td>0.785763</td>\n",
       "      <td>0.623734</td>\n",
       "      <td>0.245421</td>\n",
       "      <td>...</td>\n",
       "      <td>0.612006</td>\n",
       "      <td>0.370765</td>\n",
       "      <td>0.631110</td>\n",
       "      <td>0.269476</td>\n",
       "      <td>0.493121</td>\n",
       "      <td>0.545177</td>\n",
       "      <td>0.481736</td>\n",
       "      <td>0.499732</td>\n",
       "      <td>0.403012</td>\n",
       "      <td>0.467235</td>\n",
       "    </tr>\n",
       "    <tr>\n",
       "      <th>3</th>\n",
       "      <td>0.312500</td>\n",
       "      <td>0.355639</td>\n",
       "      <td>0.153357</td>\n",
       "      <td>0.515562</td>\n",
       "      <td>0.632742</td>\n",
       "      <td>0.560782</td>\n",
       "      <td>0.427851</td>\n",
       "      <td>0.666313</td>\n",
       "      <td>0.401096</td>\n",
       "      <td>0.378213</td>\n",
       "      <td>...</td>\n",
       "      <td>0.620743</td>\n",
       "      <td>0.349918</td>\n",
       "      <td>0.620383</td>\n",
       "      <td>0.228901</td>\n",
       "      <td>0.467486</td>\n",
       "      <td>0.291532</td>\n",
       "      <td>0.464421</td>\n",
       "      <td>0.488493</td>\n",
       "      <td>0.457533</td>\n",
       "      <td>0.430735</td>\n",
       "    </tr>\n",
       "    <tr>\n",
       "      <th>4</th>\n",
       "      <td>0.493421</td>\n",
       "      <td>0.152815</td>\n",
       "      <td>0.092511</td>\n",
       "      <td>0.226827</td>\n",
       "      <td>0.260596</td>\n",
       "      <td>0.249067</td>\n",
       "      <td>0.266256</td>\n",
       "      <td>0.428960</td>\n",
       "      <td>0.685360</td>\n",
       "      <td>0.253281</td>\n",
       "      <td>...</td>\n",
       "      <td>0.587648</td>\n",
       "      <td>0.521969</td>\n",
       "      <td>0.793091</td>\n",
       "      <td>0.467627</td>\n",
       "      <td>0.590250</td>\n",
       "      <td>0.573291</td>\n",
       "      <td>0.565443</td>\n",
       "      <td>0.384240</td>\n",
       "      <td>0.543433</td>\n",
       "      <td>0.597525</td>\n",
       "    </tr>\n",
       "  </tbody>\n",
       "</table>\n",
       "<p>5 rows × 27 columns</p>\n",
       "</div>"
      ],
      "text/plain": [
       "      tempo  chroma_stft      rmse  spectral_centroid  spectral_bandwidth  \\\n",
       "0  0.157258     0.199571  0.189433           0.221138            0.442944   \n",
       "1  0.236111     0.410365  0.467667           0.649984            0.807905   \n",
       "2  0.450000     0.355874  0.279703           0.312820            0.408533   \n",
       "3  0.312500     0.355639  0.153357           0.515562            0.632742   \n",
       "4  0.493421     0.152815  0.092511           0.226827            0.260596   \n",
       "\n",
       "    rolloff  zero_crossing_rate     mfcc1     mfcc2     mfcc3  ...    mfcc11  \\\n",
       "0  0.323919            0.121273  0.504176  0.553531  0.660947  ...  0.676269   \n",
       "1  0.763452            0.421999  0.859724  0.334470  0.589726  ...  0.657220   \n",
       "2  0.341972            0.344196  0.785763  0.623734  0.245421  ...  0.612006   \n",
       "3  0.560782            0.427851  0.666313  0.401096  0.378213  ...  0.620743   \n",
       "4  0.249067            0.266256  0.428960  0.685360  0.253281  ...  0.587648   \n",
       "\n",
       "     mfcc12    mfcc13    mfcc14    mfcc15    mfcc16    mfcc17    mfcc18  \\\n",
       "0  0.457377  0.722300  0.660328  0.724796  0.596844  0.646537  0.570514   \n",
       "1  0.221066  0.658238  0.342893  0.656844  0.425863  0.406707  0.102724   \n",
       "2  0.370765  0.631110  0.269476  0.493121  0.545177  0.481736  0.499732   \n",
       "3  0.349918  0.620383  0.228901  0.467486  0.291532  0.464421  0.488493   \n",
       "4  0.521969  0.793091  0.467627  0.590250  0.573291  0.565443  0.384240   \n",
       "\n",
       "     mfcc19    mfcc20  \n",
       "0  0.682340  0.489553  \n",
       "1  0.175923  0.395480  \n",
       "2  0.403012  0.467235  \n",
       "3  0.457533  0.430735  \n",
       "4  0.543433  0.597525  \n",
       "\n",
       "[5 rows x 27 columns]"
      ]
     },
     "execution_count": 117,
     "metadata": {},
     "output_type": "execute_result"
    }
   ],
   "source": [
    "trainX_scaled.head()"
   ]
  },
  {
   "cell_type": "code",
   "execution_count": 17,
   "metadata": {},
   "outputs": [
    {
     "name": "stdout",
     "output_type": "stream",
     "text": [
      "Index(['tempo', 'chroma_stft', 'rmse', 'spectral_centroid',\n",
      "       'spectral_bandwidth', 'rolloff', 'zero_crossing_rate', 'mfcc1', 'mfcc2',\n",
      "       'mfcc3', 'mfcc4', 'mfcc5', 'mfcc6', 'mfcc7', 'mfcc8', 'mfcc9', 'mfcc10',\n",
      "       'mfcc11', 'mfcc12', 'mfcc13', 'mfcc14', 'mfcc15', 'mfcc16', 'mfcc17',\n",
      "       'mfcc18', 'mfcc19', 'mfcc20'],\n",
      "      dtype='object')\n"
     ]
    }
   ],
   "source": [
    "features = trainX_scaled.columns\n",
    "print(features)"
   ]
  },
  {
   "attachments": {},
   "cell_type": "markdown",
   "metadata": {},
   "source": [
    "## Models Implementation"
   ]
  },
  {
   "attachments": {},
   "cell_type": "markdown",
   "metadata": {},
   "source": [
    "### XGB Classifier"
   ]
  },
  {
   "cell_type": "code",
   "execution_count": 119,
   "metadata": {},
   "outputs": [],
   "source": [
    "xgb = XGBClassifier(learning_rate = 0.75, max_depth = 5)\n",
    "xgb.fit(trainX_scaled,trainy.values.ravel())\n",
    "y_pred = xgb.predict(testX_scaled)"
   ]
  },
  {
   "cell_type": "code",
   "execution_count": 120,
   "metadata": {},
   "outputs": [
    {
     "name": "stdout",
     "output_type": "stream",
     "text": [
      "Confusion Matrix:\n",
      "[[14  0  4  1  1  2  0  0  2  0]\n",
      " [ 0 27  0  0  0  3  0  0  2  0]\n",
      " [ 2  1 18  0  0  3  0  3  4  3]\n",
      " [ 0  0  1 16  4  0  0  2  1  6]\n",
      " [ 0  0  0  2 19  0  2  0  5  1]\n",
      " [ 1  2  1  0  0 22  0  0  0  3]\n",
      " [ 2  0  0  1  1  1 24  0  0  1]\n",
      " [ 0  0  1  1  1  3  0 16  4  0]\n",
      " [ 1  0  3  0  6  2  3  2 20  0]\n",
      " [ 3  0  2  4  0  2  1  0  1 16]]\n",
      "------------------------------------\n",
      "Accuracy of XGBOOST: 64.0 %\n",
      "------------------------------------\n"
     ]
    },
    {
     "data": {
      "text/plain": [
       "Text(0.5, 1.0, 'Contribution of features in Model Performance')"
      ]
     },
     "execution_count": 120,
     "metadata": {},
     "output_type": "execute_result"
    },
    {
     "data": {
      "image/png": "[encoded data removed]",
      "text/plain": [
       "<Figure size 1080x360 with 1 Axes>"
      ]
     },
     "metadata": {
      "needs_background": "light"
     },
     "output_type": "display_data"
    }
   ],
   "source": [
    "from sklearn.metrics import confusion_matrix\n",
    "cm = confusion_matrix(testy,y_pred)\n",
    "print(\"Confusion Matrix:\")\n",
    "print(cm)\n",
    "print('------------------------------------')\n",
    "\n",
    "\n",
    "\n",
    "accuracy = xgb.score(testX_scaled, testy)\n",
    "print(\"Accuracy of XGBOOST:\",accuracy*100,\"%\")\n",
    "print('------------------------------------')\n",
    "\n",
    "perm_importance = permutation_importance(xgb, testX_scaled, testy)\n",
    "\n",
    "sorted_idx = perm_importance.importances_mean.argsort()\n",
    "plt.figure(figsize=(15,5))\n",
    "sns.barplot(y = features[sorted_idx], x = perm_importance.importances_mean[sorted_idx])\n",
    "plt.xlabel(\"Feature Importance\")\n",
    "plt.ylabel(\"Features\")\n",
    "plt.title(\"Contribution of features in Model Performance\")"
   ]
  },
  {
   "attachments": {},
   "cell_type": "markdown",
   "metadata": {},
   "source": [
    "### Random Forest Classifier"
   ]
  },
  {
   "cell_type": "code",
   "execution_count": 121,
   "metadata": {},
   "outputs": [],
   "source": [
    "rf = RandomForestClassifier(max_depth=10,n_estimators = 1200)\n",
    "rf.fit(trainX_scaled,trainy.values.ravel())\n",
    "y_pred = rf.predict(testX_scaled)"
   ]
  },
  {
   "cell_type": "code",
   "execution_count": 122,
   "metadata": {},
   "outputs": [
    {
     "name": "stdout",
     "output_type": "stream",
     "text": [
      "Confusion Matrix:\n",
      "[[15  0  1  1  1  3  0  0  2  1]\n",
      " [ 0 29  0  0  0  2  0  0  1  0]\n",
      " [ 2  0 17  3  1  6  0  1  2  2]\n",
      " [ 0  0  0 12  6  0  2  5  1  4]\n",
      " [ 1  0  0  1 18  0  2  2  4  1]\n",
      " [ 0  0  3  0  1 21  0  3  0  1]\n",
      " [ 2  0  0  1  1  0 26  0  0  0]\n",
      " [ 0  0  0  2  0  4  0 16  3  1]\n",
      " [ 1  1  1  1  4  0  1  2 25  1]\n",
      " [ 5  0  4  8  0  2  1  0  0  9]]\n",
      "------------------------------------\n",
      "Accuracy of Random Forest: 62.66666666666667 %\n",
      "------------------------------------\n"
     ]
    },
    {
     "data": {
      "text/plain": [
       "Text(0.5, 1.0, 'Contribution of features in Model Performance')"
      ]
     },
     "execution_count": 122,
     "metadata": {},
     "output_type": "execute_result"
    },
    {
     "data": {
      "image/png": "[encoded data removed]",
      "text/plain": [
       "<Figure size 1080x360 with 1 Axes>"
      ]
     },
     "metadata": {
      "needs_background": "light"
     },
     "output_type": "display_data"
    }
   ],
   "source": [
    "from sklearn.metrics import confusion_matrix\n",
    "cm = confusion_matrix(testy,y_pred)\n",
    "print(\"Confusion Matrix:\")\n",
    "print(cm)\n",
    "print('------------------------------------')\n",
    "\n",
    "\n",
    "\n",
    "accuracy = rf.score(testX_scaled, testy)\n",
    "print(\"Accuracy of Random Forest:\",accuracy*100,\"%\")\n",
    "print('------------------------------------')\n",
    "\n",
    "perm_importance = permutation_importance(rf, testX_scaled, testy)\n",
    "\n",
    "sorted_idx = perm_importance.importances_mean.argsort()\n",
    "plt.figure(figsize=(15,5))\n",
    "sns.barplot(y = features[sorted_idx], x = perm_importance.importances_mean[sorted_idx])\n",
    "plt.xlabel(\"Feature Importance\")\n",
    "plt.ylabel(\"Features\")\n",
    "plt.title(\"Contribution of features in Model Performance\")"
   ]
  },
  {
   "attachments": {},
   "cell_type": "markdown",
   "metadata": {},
   "source": [
    "### Gradient Boosting Classifier"
   ]
  },
  {
   "cell_type": "code",
   "execution_count": 123,
   "metadata": {},
   "outputs": [],
   "source": [
    "gb = GradientBoostingClassifier(learning_rate=0.01, max_depth=5, n_estimators=400)\n",
    "gb.fit(trainX_scaled,trainy.values.ravel())\n",
    "y_pred = gb.predict(testX_scaled)"
   ]
  },
  {
   "cell_type": "code",
   "execution_count": 124,
   "metadata": {},
   "outputs": [
    {
     "name": "stdout",
     "output_type": "stream",
     "text": [
      "Confusion Matrix:\n",
      "[[13  0  3  1  1  3  0  0  3  0]\n",
      " [ 0 26  0  0  0  3  0  0  2  1]\n",
      " [ 2  0 20  2  0  5  0  1  3  1]\n",
      " [ 0  0  1 15  4  0  1  3  1  5]\n",
      " [ 1  0  0  2 16  1  3  0  3  3]\n",
      " [ 0  1  1  0  0 23  0  0  0  4]\n",
      " [ 2  1  0  1  1  2 21  0  0  2]\n",
      " [ 0  0  2  0  3  4  0 13  1  3]\n",
      " [ 3  1  4  0  5  1  1  3 15  4]\n",
      " [ 4  0  5  5  1  2  1  0  2  9]]\n",
      "------------------------------------\n",
      "Accuracy of Gradient Boosting: 56.99999999999999 %\n",
      "------------------------------------\n"
     ]
    },
    {
     "data": {
      "text/plain": [
       "Text(0.5, 1.0, 'Contribution of features in Model Performance')"
      ]
     },
     "execution_count": 124,
     "metadata": {},
     "output_type": "execute_result"
    },
    {
     "data": {
      "image/png": "[encoded data removed]",
      "text/plain": [
       "<Figure size 1080x360 with 1 Axes>"
      ]
     },
     "metadata": {
      "needs_background": "light"
     },
     "output_type": "display_data"
    }
   ],
   "source": [
    "from sklearn.metrics import confusion_matrix\n",
    "cm = confusion_matrix(testy,y_pred)\n",
    "print(\"Confusion Matrix:\")\n",
    "print(cm)\n",
    "print('------------------------------------')\n",
    "\n",
    "\n",
    "\n",
    "accuracy = gb.score(testX_scaled, testy)\n",
    "print(\"Accuracy of Gradient Boosting:\",accuracy*100,\"%\")\n",
    "print('------------------------------------')\n",
    "\n",
    "perm_importance = permutation_importance(gb, testX_scaled, testy)\n",
    "\n",
    "sorted_idx = perm_importance.importances_mean.argsort()\n",
    "plt.figure(figsize=(15,5))\n",
    "sns.barplot(y = features[sorted_idx], x = perm_importance.importances_mean[sorted_idx])\n",
    "plt.xlabel(\"Feature Importance\")\n",
    "plt.ylabel(\"Features\")\n",
    "plt.title(\"Contribution of features in Model Performance\")"
   ]
  },
  {
   "attachments": {},
   "cell_type": "markdown",
   "metadata": {},
   "source": [
    "## Feature Selection using Random Forest."
   ]
  },
  {
   "cell_type": "code",
   "execution_count": 125,
   "metadata": {},
   "outputs": [],
   "source": [
    "X = data.loc[:, data.columns != 'class_label']     # All columns except target variable.\n",
    "y = data[['class_label']]                          # Target Variable."
   ]
  },
  {
   "cell_type": "code",
   "execution_count": 126,
   "metadata": {},
   "outputs": [],
   "source": [
    "trainX, testX, trainy, testy = train_test_split(X, y, test_size=0.3, random_state=2)"
   ]
  },
  {
   "cell_type": "code",
   "execution_count": 127,
   "metadata": {},
   "outputs": [
    {
     "data": {
      "text/html": [
       "<style>#sk-container-id-3 {color: black;background-color: white;}#sk-container-id-3 pre{padding: 0;}#sk-container-id-3 div.sk-toggleable {background-color: white;}#sk-container-id-3 label.sk-toggleable__label {cursor: pointer;display: block;width: 100%;margin-bottom: 0;padding: 0.3em;box-sizing: border-box;text-align: center;}#sk-container-id-3 label.sk-toggleable__label-arrow:before {content: \"▸\";float: left;margin-right: 0.25em;color: #696969;}#sk-container-id-3 label.sk-toggleable__label-arrow:hover:before {color: black;}#sk-container-id-3 div.sk-estimator:hover label.sk-toggleable__label-arrow:before {color: black;}#sk-container-id-3 div.sk-toggleable__content {max-height: 0;max-width: 0;overflow: hidden;text-align: left;background-color: #f0f8ff;}#sk-container-id-3 div.sk-toggleable__content pre {margin: 0.2em;color: black;border-radius: 0.25em;background-color: #f0f8ff;}#sk-container-id-3 input.sk-toggleable__control:checked~div.sk-toggleable__content {max-height: 200px;max-width: 100%;overflow: auto;}#sk-container-id-3 input.sk-toggleable__control:checked~label.sk-toggleable__label-arrow:before {content: \"▾\";}#sk-container-id-3 div.sk-estimator input.sk-toggleable__control:checked~label.sk-toggleable__label {background-color: #d4ebff;}#sk-container-id-3 div.sk-label input.sk-toggleable__control:checked~label.sk-toggleable__label {background-color: #d4ebff;}#sk-container-id-3 input.sk-hidden--visually {border: 0;clip: rect(1px 1px 1px 1px);clip: rect(1px, 1px, 1px, 1px);height: 1px;margin: -1px;overflow: hidden;padding: 0;position: absolute;width: 1px;}#sk-container-id-3 div.sk-estimator {font-family: monospace;background-color: #f0f8ff;border: 1px dotted black;border-radius: 0.25em;box-sizing: border-box;margin-bottom: 0.5em;}#sk-container-id-3 div.sk-estimator:hover {background-color: #d4ebff;}#sk-container-id-3 div.sk-parallel-item::after {content: \"\";width: 100%;border-bottom: 1px solid gray;flex-grow: 1;}#sk-container-id-3 div.sk-label:hover label.sk-toggleable__label {background-color: #d4ebff;}#sk-container-id-3 div.sk-serial::before {content: \"\";position: absolute;border-left: 1px solid gray;box-sizing: border-box;top: 0;bottom: 0;left: 50%;z-index: 0;}#sk-container-id-3 div.sk-serial {display: flex;flex-direction: column;align-items: center;background-color: white;padding-right: 0.2em;padding-left: 0.2em;position: relative;}#sk-container-id-3 div.sk-item {position: relative;z-index: 1;}#sk-container-id-3 div.sk-parallel {display: flex;align-items: stretch;justify-content: center;background-color: white;position: relative;}#sk-container-id-3 div.sk-item::before, #sk-container-id-3 div.sk-parallel-item::before {content: \"\";position: absolute;border-left: 1px solid gray;box-sizing: border-box;top: 0;bottom: 0;left: 50%;z-index: -1;}#sk-container-id-3 div.sk-parallel-item {display: flex;flex-direction: column;z-index: 1;position: relative;background-color: white;}#sk-container-id-3 div.sk-parallel-item:first-child::after {align-self: flex-end;width: 50%;}#sk-container-id-3 div.sk-parallel-item:last-child::after {align-self: flex-start;width: 50%;}#sk-container-id-3 div.sk-parallel-item:only-child::after {width: 0;}#sk-container-id-3 div.sk-dashed-wrapped {border: 1px dashed gray;margin: 0 0.4em 0.5em 0.4em;box-sizing: border-box;padding-bottom: 0.4em;background-color: white;}#sk-container-id-3 div.sk-label label {font-family: monospace;font-weight: bold;display: inline-block;line-height: 1.2em;}#sk-container-id-3 div.sk-label-container {text-align: center;}#sk-container-id-3 div.sk-container {/* jupyter's `normalize.less` sets `[hidden] { display: none; }` but bootstrap.min.css set `[hidden] { display: none !important; }` so we also need the `!important` here to be able to override the default hidden behavior on the sphinx rendered scikit-learn.org. See: https://github.com/scikit-learn/scikit-learn/issues/21755 */display: inline-block !important;position: relative;}#sk-container-id-3 div.sk-text-repr-fallback {display: none;}</style><div id=\"sk-container-id-3\" class=\"sk-top-container\"><div class=\"sk-text-repr-fallback\"><pre>RandomForestClassifier(n_estimators=50, random_state=100)</pre><b>In a Jupyter environment, please rerun this cell to show the HTML representation or trust the notebook. <br />On GitHub, the HTML representation is unable to render, please try loading this page with nbviewer.org.</b></div><div class=\"sk-container\" hidden><div class=\"sk-item\"><div class=\"sk-estimator sk-toggleable\"><input class=\"sk-toggleable__control sk-hidden--visually\" id=\"sk-estimator-id-3\" type=\"checkbox\" checked><label for=\"sk-estimator-id-3\" class=\"sk-toggleable__label sk-toggleable__label-arrow\">RandomForestClassifier</label><div class=\"sk-toggleable__content\"><pre>RandomForestClassifier(n_estimators=50, random_state=100)</pre></div></div></div></div></div>"
      ],
      "text/plain": [
       "RandomForestClassifier(n_estimators=50, random_state=100)"
      ]
     },
     "execution_count": 127,
     "metadata": {},
     "output_type": "execute_result"
    }
   ],
   "source": [
    "rf_w = RandomForestClassifier(random_state=100, n_estimators=50)\n",
    "rf_w.fit(trainX, trainy)"
   ]
  },
  {
   "cell_type": "code",
   "execution_count": 128,
   "metadata": {},
   "outputs": [
    {
     "data": {
      "text/plain": [
       "<AxesSubplot:xlabel='Features', ylabel='Importances'>"
      ]
     },
     "execution_count": 128,
     "metadata": {},
     "output_type": "execute_result"
    },
    {
     "data": {
      "image/png": "[encoded data removed]",
      "text/plain": [
       "<Figure size 720x216 with 1 Axes>"
      ]
     },
     "metadata": {
      "needs_background": "light"
     },
     "output_type": "display_data"
    }
   ],
   "source": [
    "import seaborn as sns\n",
    "# get the importance of the resulting features.\n",
    "importances = rf_w.feature_importances_\n",
    "# create a data frame for visualization.\n",
    "final_df = pd.DataFrame({\"Features\": trainX.columns, \"Importances\":importances})\n",
    "final_df.set_index('Importances')\n",
    "\n",
    "# sort in ascending order to better visualization.\n",
    "final_df = final_df.sort_values('Importances')\n",
    "\n",
    "# plot the feature importances in bars.\n",
    "plt.figure(figsize=(10,3))\n",
    "plt.xticks(rotation=45)\n",
    "sns.barplot(x=\"Features\",y= \"Importances\", data=final_df)"
   ]
  },
  {
   "cell_type": "code",
   "execution_count": 129,
   "metadata": {},
   "outputs": [
    {
     "name": "stdout",
     "output_type": "stream",
     "text": [
      "[False  True  True  True  True  True False  True False  True  True False\n",
      "  True False False  True False False  True False False False False  True\n",
      " False False False]\n",
      "[13  1  1  1  1  1  3  1  5  1  1 11  1  6  7  1 14  2  1  4 15 10 16  1\n",
      "  8 12  9]\n"
     ]
    }
   ],
   "source": [
    "model_tree = RandomForestClassifier(n_estimators=100,random_state=42)\n",
    "\n",
    "# use RFE to eleminate the less importance features\n",
    "sel_rfe_tree = RFE(estimator=model_tree, n_features_to_select=12, step=1)    # Selecting 9 imporatant Features.\n",
    "X_train_rfe_tree = sel_rfe_tree.fit_transform(trainX, trainy)\n",
    "print(sel_rfe_tree.get_support())\n",
    "print(sel_rfe_tree.ranking_)"
   ]
  },
  {
   "cell_type": "code",
   "execution_count": 130,
   "metadata": {},
   "outputs": [
    {
     "data": {
      "text/plain": [
       "['chroma_stft',\n",
       " 'rmse',\n",
       " 'spectral_centroid',\n",
       " 'spectral_bandwidth',\n",
       " 'rolloff',\n",
       " 'mfcc1',\n",
       " 'mfcc3',\n",
       " 'mfcc4',\n",
       " 'mfcc6',\n",
       " 'mfcc9',\n",
       " 'mfcc12',\n",
       " 'mfcc17']"
      ]
     },
     "execution_count": 130,
     "metadata": {},
     "output_type": "execute_result"
    }
   ],
   "source": [
    "# These are the important features after RFE.\n",
    "selected_cols = [column for column in trainX.columns if column in trainX.columns[sel_rfe_tree.get_support()]]\n",
    "selected_cols"
   ]
  },
  {
   "attachments": {},
   "cell_type": "markdown",
   "metadata": {},
   "source": [
    "Splitting Dataset after feature selection"
   ]
  },
  {
   "cell_type": "code",
   "execution_count": 131,
   "metadata": {},
   "outputs": [],
   "source": [
    "#Adding all imporatant features after RFE in X variable.\n",
    "X = data[['chroma_stft', 'rmse', 'spectral_bandwidth', 'rolloff', 'mfcc1', 'mfcc3', 'mfcc4', 'mfcc9', 'mfcc17', 'mfcc12','mfcc6','spectral_centroid']]\n",
    "y = data[['class_label']]              # Target Variable."
   ]
  },
  {
   "cell_type": "code",
   "execution_count": 132,
   "metadata": {},
   "outputs": [
    {
     "name": "stdout",
     "output_type": "stream",
     "text": [
      "(700, 12)\n",
      "(700, 1)\n",
      "(300, 12)\n",
      "(300, 1)\n"
     ]
    }
   ],
   "source": [
    "trainX, testX, trainy, testy = train_test_split(X, y, test_size=0.3, random_state=2)\n",
    "print(trainX.shape)\n",
    "print(trainy.shape)\n",
    "print(testX.shape)\n",
    "print(testy.shape)"
   ]
  },
  {
   "attachments": {},
   "cell_type": "markdown",
   "metadata": {},
   "source": [
    "### XGBClassifier (After Feature Selection)"
   ]
  },
  {
   "cell_type": "code",
   "execution_count": 133,
   "metadata": {},
   "outputs": [],
   "source": [
    "xgb = XGBClassifier(max_depth = 8, learning_rate = 0.1)\n",
    "xgb.fit(trainX,trainy.values.ravel())\n",
    "y_pred = xgb.predict(testX)"
   ]
  },
  {
   "cell_type": "code",
   "execution_count": 134,
   "metadata": {},
   "outputs": [
    {
     "name": "stdout",
     "output_type": "stream",
     "text": [
      "Confusion Matrix:\n",
      "[[14  0  5  0  0  4  1  0  0  0]\n",
      " [ 0 28  1  0  0  2  0  0  1  0]\n",
      " [ 2  1 16  1  0  8  0  1  3  2]\n",
      " [ 0  0  1 11  5  0  0  2  2  9]\n",
      " [ 1  0  0  3 16  1  3  1  4  0]\n",
      " [ 1  2  2  0  0 23  0  0  0  1]\n",
      " [ 2  0  1  0  1  2 24  0  0  0]\n",
      " [ 0  0  1  0  3  1  0 19  2  0]\n",
      " [ 1  0  4  2  4  1  2  1 16  6]\n",
      " [ 5  0  3  3  1  3  0  2  1 11]]\n",
      "------------------------------------\n",
      "Accuracy of XGBOOST: 59.333333333333336 %\n",
      "------------------------------------\n"
     ]
    }
   ],
   "source": [
    "from sklearn.metrics import confusion_matrix\n",
    "cm = confusion_matrix(testy,y_pred)\n",
    "print(\"Confusion Matrix:\")\n",
    "print(cm)\n",
    "print('------------------------------------')\n",
    "\n",
    "\n",
    "accuracy = xgb.score(testX, testy)\n",
    "print(\"Accuracy of XGBOOST:\",accuracy*100,\"%\")\n",
    "print('------------------------------------')"
   ]
  },
  {
   "attachments": {},
   "cell_type": "markdown",
   "metadata": {},
   "source": [
    "#### Random Forest Classifier (After Feature Selection)"
   ]
  },
  {
   "cell_type": "code",
   "execution_count": 135,
   "metadata": {},
   "outputs": [],
   "source": [
    "rf = RandomForestClassifier(max_depth=15,n_estimators = 1000)\n",
    "rf.fit(trainX,trainy.values.ravel())\n",
    "y_pred = rf.predict(testX)"
   ]
  },
  {
   "cell_type": "code",
   "execution_count": 136,
   "metadata": {},
   "outputs": [
    {
     "name": "stdout",
     "output_type": "stream",
     "text": [
      "Confusion Matrix:\n",
      "[[15  0  0  1  0  3  1  0  2  2]\n",
      " [ 0 27  2  0  0  2  0  0  1  0]\n",
      " [ 3  1 17  4  0  5  0  3  1  0]\n",
      " [ 0  0  0 13  6  0  0  3  2  6]\n",
      " [ 1  0  0  0 17  0  2  4  3  2]\n",
      " [ 2  0  1  1  1 21  0  3  0  0]\n",
      " [ 2  0  0  1  1  1 25  0  0  0]\n",
      " [ 0  0  0  1  1  4  0 17  2  1]\n",
      " [ 0  0  1  2  5  3  1  1 23  1]\n",
      " [ 6  0  4  5  0  2  0  1  1 10]]\n",
      "------------------------------------\n",
      "Accuracy of Random Forest: 61.66666666666667 %\n",
      "------------------------------------\n"
     ]
    },
    {
     "data": {
      "text/plain": [
       "Text(0.5, 1.0, 'Contribution of features in Model Performance')"
      ]
     },
     "execution_count": 136,
     "metadata": {},
     "output_type": "execute_result"
    },
    {
     "data": {
      "image/png": "[encoded data removed]",
      "text/plain": [
       "<Figure size 1080x360 with 1 Axes>"
      ]
     },
     "metadata": {
      "needs_background": "light"
     },
     "output_type": "display_data"
    }
   ],
   "source": [
    "from sklearn.metrics import confusion_matrix\n",
    "cm = confusion_matrix(testy,y_pred)\n",
    "print(\"Confusion Matrix:\")\n",
    "print(cm)\n",
    "print('------------------------------------')\n",
    "\n",
    "\n",
    "\n",
    "accuracy = rf.score(testX, testy)\n",
    "print(\"Accuracy of Random Forest:\",accuracy*100,\"%\")\n",
    "print('------------------------------------')\n",
    "\n",
    "perm_importance = permutation_importance(rf, testX, testy)\n",
    "\n",
    "sorted_idx = perm_importance.importances_mean.argsort()\n",
    "plt.figure(figsize=(15,5))\n",
    "sns.barplot(y = features[sorted_idx], x = perm_importance.importances_mean[sorted_idx])\n",
    "plt.xlabel(\"Feature Importance\")\n",
    "plt.ylabel(\"Features\")\n",
    "plt.title(\"Contribution of features in Model Performance\")"
   ]
  },
  {
   "attachments": {},
   "cell_type": "markdown",
   "metadata": {},
   "source": [
    "## Hyper Parameter Tuning using Grid Search."
   ]
  },
  {
   "cell_type": "code",
   "execution_count": 137,
   "metadata": {},
   "outputs": [],
   "source": [
    "gb_cv = RandomForestClassifier()\n",
    "param_grid = {\n",
    "     'max_depth': [2, 5, 10, 20, 30, 40, 50,60,70,80.90,100],\n",
    "     'n_estimators': [100, 150, 200, 250, 300, 350, 400, 450,500,550,600,650,700,750,800,900,950,1000] \n",
    "}\n",
    "grid_search = GridSearchCV(estimator = gb_cv, param_grid=param_grid, cv = 3, verbose = 2)\n",
    "grid_search.fit(trainX, trainy.values.ravel())\n",
    "best_grid = grid_search.best_estimator_\n",
    "print(best_grid)"
   ]
  },
  {
   "attachments": {},
   "cell_type": "markdown",
   "metadata": {},
   "source": [
    "### Random Forest Classifier (with Tuned Parameter)"
   ]
  },
  {
   "cell_type": "code",
   "execution_count": 138,
   "metadata": {},
   "outputs": [],
   "source": [
    "rf = RandomForestClassifier(max_depth=60 , n_estimators= 350)\n",
    "rf.fit(trainX,trainy.values.ravel())\n",
    "y_pred = rf.predict(testX)"
   ]
  },
  {
   "cell_type": "code",
   "execution_count": 143,
   "metadata": {},
   "outputs": [
    {
     "data": {
      "text/plain": [
       "Index(['chroma_stft', 'rmse', 'spectral_bandwidth', 'rolloff', 'mfcc1',\n",
       "       'mfcc3', 'mfcc4', 'mfcc9', 'mfcc17', 'mfcc12', 'mfcc6',\n",
       "       'spectral_centroid'],\n",
       "      dtype='object')"
      ]
     },
     "execution_count": 143,
     "metadata": {},
     "output_type": "execute_result"
    }
   ],
   "source": [
    "trainX.columns"
   ]
  },
  {
   "cell_type": "code",
   "execution_count": 144,
   "metadata": {},
   "outputs": [
    {
     "name": "stdout",
     "output_type": "stream",
     "text": [
      "Index(['chroma_stft', 'rmse', 'spectral_bandwidth', 'rolloff', 'mfcc1',\n",
      "       'mfcc3', 'mfcc4', 'mfcc9', 'mfcc17', 'mfcc12', 'mfcc6',\n",
      "       'spectral_centroid'],\n",
      "      dtype='object')\n"
     ]
    }
   ],
   "source": [
    "features = trainX.columns\n",
    "print(features)"
   ]
  },
  {
   "cell_type": "code",
   "execution_count": 145,
   "metadata": {},
   "outputs": [
    {
     "name": "stdout",
     "output_type": "stream",
     "text": [
      "Confusion Matrix:\n",
      "[[15  0  1  1  0  3  1  0  2  1]\n",
      " [ 1 27  1  0  0  2  0  0  1  0]\n",
      " [ 3  1 15  4  0  6  0  2  2  1]\n",
      " [ 0  0  0 14  6  0  0  2  2  6]\n",
      " [ 1  0  0  1 18  0  2  5  1  1]\n",
      " [ 2  0  2  2  1 20  0  2  0  0]\n",
      " [ 1  0  0  1  0  1 26  0  0  1]\n",
      " [ 0  0  1  1  0  4  0 17  3  0]\n",
      " [ 0  0  1  2  5  3  2  1 22  1]\n",
      " [ 5  0  4  5  0  2  0  1  1 11]]\n",
      "------------------------------------\n",
      "Accuracy of Random Forest: 61.66666666666667 %\n",
      "------------------------------------\n"
     ]
    },
    {
     "data": {
      "text/plain": [
       "Text(0.5, 1.0, 'Contribution of features in Model Performance')"
      ]
     },
     "execution_count": 145,
     "metadata": {},
     "output_type": "execute_result"
    },
    {
     "data": {
      "image/png": "[encoded data removed]",
      "text/plain": [
       "<Figure size 1080x360 with 1 Axes>"
      ]
     },
     "metadata": {
      "needs_background": "light"
     },
     "output_type": "display_data"
    }
   ],
   "source": [
    "from sklearn.metrics import confusion_matrix\n",
    "cm = confusion_matrix(testy,y_pred)\n",
    "print(\"Confusion Matrix:\")\n",
    "print(cm)\n",
    "print('------------------------------------')\n",
    "\n",
    "\n",
    "\n",
    "accuracy = rf.score(testX, testy)\n",
    "print(\"Accuracy of Random Forest:\",accuracy*100,\"%\")\n",
    "print('------------------------------------')\n",
    "\n",
    "perm_importance = permutation_importance(rf, testX, testy)\n",
    "\n",
    "sorted_idx = perm_importance.importances_mean.argsort()\n",
    "plt.figure(figsize=(15,5))\n",
    "sns.barplot(y = features[sorted_idx], x = perm_importance.importances_mean[sorted_idx])\n",
    "plt.xlabel(\"Feature Importance\")\n",
    "plt.ylabel(\"Features\")\n",
    "plt.title(\"Contribution of features in Model Performance\")"
   ]
  },
  {
   "attachments": {},
   "cell_type": "markdown",
   "metadata": {},
   "source": [
    "### Ensemble Model : Voting Classifier"
   ]
  },
  {
   "cell_type": "code",
   "execution_count": 140,
   "metadata": {},
   "outputs": [],
   "source": [
    "from sklearn.ensemble import VotingClassifier\n",
    "r0 = RandomForestClassifier(max_depth=60 , n_estimators= 350)\n",
    "r1 = XGBClassifier(max_depth = 12, learning_rate = 0.01)\n",
    "r2 = XGBClassifier(learning_rate = 0.82, max_depth = 2)\n",
    "\n",
    "# In soft voting, every individual classifier provides a probability value that a specific data point belongs to a particular target class\n",
    "voting = VotingClassifier([('gb1', r0),('gb2', r1),('gb3', r2)], voting='soft')\n",
    "voting.fit(trainX,trainy.values.ravel())\n",
    "y_pred_voting = voting.predict(testX)"
   ]
  },
  {
   "cell_type": "code",
   "execution_count": 141,
   "metadata": {},
   "outputs": [
    {
     "name": "stdout",
     "output_type": "stream",
     "text": [
      "Confusion Matrix:\n",
      "[[15  0  3  1  1  3  0  0  0  1]\n",
      " [ 2 25  1  0  0  3  0  0  1  0]\n",
      " [ 3  1 18  0  1  6  0  1  2  2]\n",
      " [ 0  0  0 14  6  0  0  2  3  5]\n",
      " [ 1  1  0  3 16  1  3  1  3  0]\n",
      " [ 1  2  1  0  0 23  0  1  0  1]\n",
      " [ 1  0  1  0  1  2 25  0  0  0]\n",
      " [ 0  0  1  1  3  2  0 16  1  2]\n",
      " [ 1  0  2  1  5  2  2  3 18  3]\n",
      " [ 4  0  4  4  0  2  0  2  1 12]]\n",
      "------------------------------------\n",
      "Accuracy of Voting Classifier: 60.66666666666667 %\n",
      "------------------------------------\n"
     ]
    }
   ],
   "source": [
    "from sklearn.metrics import confusion_matrix\n",
    "cm = confusion_matrix(testy,y_pred_voting)\n",
    "print(\"Confusion Matrix:\")\n",
    "print(cm)\n",
    "print('------------------------------------')\n",
    "\n",
    "\n",
    "\n",
    "accuracy = voting.score(testX, testy)\n",
    "print(\"Accuracy of Voting Classifier:\",accuracy*100,\"%\")\n",
    "print('------------------------------------')"
   ]
  },
  {
   "attachments": {},
   "cell_type": "markdown",
   "metadata": {},
   "source": [
    "### Saving Random Forest Model"
   ]
  },
  {
   "cell_type": "code",
   "execution_count": 142,
   "metadata": {},
   "outputs": [],
   "source": [
    "import pickle\n",
    "pickle_out = open(\"rf.pkl\",\"wb\")\n",
    "pickle.dump(rf, pickle_out)\n",
    "pickle_out.close()"
   ]
  }
 ],
 "metadata": {
  "kernelspec": {
   "display_name": "Python 3",
   "language": "python",
   "name": "python3"
  },
  "language_info": {
   "codemirror_mode": {
    "name": "ipython",
    "version": 3
   },
   "file_extension": ".py",
   "mimetype": "text/x-python",
   "name": "python",
   "nbconvert_exporter": "python",
   "pygments_lexer": "ipython3",
   "version": "3.9.7"
  },
  "orig_nbformat": 4
 },
 "nbformat": 4,
 "nbformat_minor": 2
}
